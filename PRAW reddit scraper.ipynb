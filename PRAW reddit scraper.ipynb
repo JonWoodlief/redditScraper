{
 "cells": [
  {
   "cell_type": "code",
   "execution_count": 8,
   "metadata": {},
   "outputs": [],
   "source": [
    "import praw"
   ]
  },
  {
   "cell_type": "code",
   "execution_count": 9,
   "metadata": {},
   "outputs": [],
   "source": [
    "reddit = praw.Reddit(client_id='z0mHSz-y0qOv_A', \\\n",
    "                     client_secret='ggr8fnzoHycbSz9YyJq8ybWG8-A', \\\n",
    "                     user_agent='4010webScraper', \\\n",
    "                     username='testbot4010', \\\n",
    "                     password='4010projectuncc')"
   ]
  },
  {
   "cell_type": "code",
   "execution_count": 10,
   "metadata": {},
   "outputs": [],
   "source": [
    "subreddit = reddit.subreddit('wallstreetbets')"
   ]
  },
  {
   "cell_type": "code",
   "execution_count": 13,
   "metadata": {},
   "outputs": [],
   "source": [
    "top_subreddit = subreddit.top()"
   ]
  },
  {
   "cell_type": "code",
   "execution_count": 14,
   "metadata": {},
   "outputs": [
    {
     "name": "stdout",
     "output_type": "stream",
     "text": [
      "Type yy into google. c75d5x\n",
      "Oil is now expenzive d51f4o\n",
      "No bamboozles, everyone who comments in this thread will be invited to become a mod of r/WSB. b87viz\n",
      "My dad, working through a 15-hour time zone difference almost every day d29nov\n",
      "This guy knows about long term investments. 9kaqeh\n",
      "CONGRATULATIONS TO VERIZON ON A 98.1% loss on Tumblr (paid $1,100,000,000 in 2013, sold today for under $20,000,000) cpk0zy\n",
      "Made fake tinder of 22 yr old hot girl to solicit financial advice from old men looking for sugar babies 8rdnnk\n",
      "Elon Musk and the SEC in a nutshell 9jn2wu\n",
      "Upvote to ban all of Canada from the internet 5rb9c7\n",
      "Goodnight Mama Su 🌃 9fdhc8\n",
      "Elon trolls Jeff Bezos 24 hours after divorce announcement. aers18\n",
      "Elon just committed the perfect crime 7w57mr\n",
      "The true story apm2f2\n",
      "The Legend Of 1R0NYMAN ahy7dy\n",
      "A man gave each of his 3 girlfriends $5,000 as a test 8csfvl\n",
      "Stock Tank cca4bh\n",
      "Elon Musk's apology is out 8zyhh9\n",
      "First image of Martin Shkreli after prison release in 2025 84gl5n\n",
      "PSA: RobinHood won’t recognize your face if you’re crying. Make sure to regain your composure before logging in to panic sell. a42wm9\n",
      "Investment advice from WSB 8o4pb1\n",
      "Apple 8K Filing ac0qyd\n",
      "Man stole $122m from Facebook and Google by sending them random bills, which the companies dutifully paid b53yzr\n",
      "Value Investing? aezbeo\n",
      "Me frantically trying to turn $400 into the $10K I lost before my wife finds out. axb03k\n",
      "Walking out of 2018 like 9r3auw\n",
      "If this post gets over 3000 (3k) upvotes, we will bring back the rainbow dicks 5e0ybw\n",
      "Clip from yesterday's Tesla presentation 9768xa\n",
      "There cant be a trade deficit if there is no trade. 89ov7h\n",
      "I love 2018 9duyk6\n",
      "It has been a. Pleasure to yolo with you gentlemen, Adult edition* a5a18z\n",
      "Meme Lord Elon b2jz2t\n",
      "New WSB'er Orientation awa6j3\n",
      "Poppa Elon has a request 8z3mha\n",
      "Never change, guys. 6n1wa6\n",
      "Filled out a survey with my experience as a WSB mod for some guy's PhD. cj3l52\n",
      "Q1 Earnings Show bg1qun\n",
      "So I finally made it up to 1 million. It honestly took exactly 14 months. I suggest everyone start with 1.2 million 75x6ye\n",
      "Can’t pump stocks on a Sunday bro cs50s5\n",
      "Good Point 8y95ht\n",
      "/u/1R0NYMAN creating $300k of Robinhood Credit out of thin air ah0lu5\n",
      "You Guys Really Don't Know Anything, do You? cm4rwe\n",
      "My wife asked what all the /u/1r0nyman references were that I was reading. Explained it to her and she cross-stitched this. aj7gvf\n",
      "I love you guys 9gyap2\n",
      "A Message From The Mods at3nf1\n",
      "never change 6ps0u4\n",
      "Dashcam footage of WSB vs. other finance subs c689ge\n",
      "Jeff Bezos hard at work ak3hyl\n",
      "Logan Paul finds another corpse 7o3m19\n",
      "Some of you autist bjcbpv\n",
      "He has revealed himself 98ojj8\n",
      "WeWork’s IPO is failing because the customers are literally too dumb to function d5ncec\n",
      "You fucking idiots. c7k7d9\n",
      "Tesla testing new ‘self-driving’ vehicle w/ robotic chauffeur b3px6s\n",
      "Facebook's put play from yesterday. Im 20, time to retire? 922gtp\n",
      "Taking advice from WSB be like this afiu2i\n",
      "Aim high, Robinhood! dg1rxh\n",
      "It’s our cherished annual tradition! alrbry\n",
      "Only invest what you can afford to lose they said.. agovgl\n",
      "He joined us without even knowing it 9t0n1c\n",
      "How do I go long on Chuck E. Cheese 7klcar\n",
      "Please, risk management. Don’t be like me. 409 upvotes and I will not kill myself today. 9rrug5\n",
      "Ok, listen up folks. Rule 1: “It’s not a loss until you sell.” 9z36mi\n",
      "I bought KimJong-un.com and redirected it to WSB so that we will all become rich 8plaag\n",
      "The Onion confirmed DD source atocy0\n",
      "Its been real 808lnt\n",
      "\"I don't give a shit about Tesla I just want to die on Mars\" Actual quote by Musk ab7upy\n",
      "True WSB legends aimp4z\n",
      "*Surprised a7zoaf\n",
      "Unbridled Autism 85nw67\n",
      "One of us ahfxwa\n",
      "Found on Twitter - dude tries to get laid using his $3k portfolio am2p9r\n",
      "It’s not a loss if you never sell 🤔 9062qt\n",
      "50/50 chance ladies. 8ku0p0\n",
      "I promised all of you Micron would close above $54 Friday. I am trying my best so I went to Manassas to pay my respects. 9bm8nl\n",
      "$TSLA to Mars ap4so9\n",
      "Be careful before you stereotype 8lxk3o\n",
      "One of us d4ciso\n",
      "New business strategy lads ad5yic\n",
      "Step 4) Buy stock Step 5) What is the stock market? 8s08ap\n",
      "Tesla earning here I come 🔥🚗 chcx3a\n",
      "Instantly thought of this sub when I saw this scene 9i8nys\n",
      "AMZN absolutely savage with targeted ads today 6gaqr2\n",
      "Mia Khalifa getting pumped and dumped in new ways b905oj\n",
      "My wife asked me what \"tendies\" were, so I made a diagram to try and explain it 9kkh27\n",
      "Bonjour, I am Ze new Chairman! 9l59uv\n",
      "Gentlemen it’s been a pleasure to YOLO with you. a4x7pn\n",
      "Dramatized reenactment of my first options trade 6pdn8d\n",
      "Today is the day al25cb\n",
      "Martin Shkreli found guilty on 3 of 8 charges. 6rmjzb\n",
      "Wall Street Land cqqu8q\n",
      "Guys is it time for calls? d3o5vn\n",
      "No one can challenge us. aboh4f\n",
      "Dinosaur Pattern - Gold Bull Market Confirmed c3fl7e\n",
      "Short NKE 9ep5t6\n",
      "Now that Uber doesn't have a CEO, COO, CFO or CTO, they may finally qualify as a self-driving car company 6hmcdj\n",
      "I’m beginning to think holding Shopify was a good idea. ckq37c\n",
      "Them apples bmyo1p\n",
      "One of us 9lv1ui\n",
      "x-post from r/dankmemes 85ahki\n",
      "Holding my 10 Bagger calls only to see Trump announce more Tariffs on a Sunday. bkzsmn\n"
     ]
    }
   ],
   "source": [
    "for submission in subreddit.top():\n",
    "    print(submission.title, submission.id)"
   ]
  },
  {
   "cell_type": "code",
   "execution_count": null,
   "metadata": {},
   "outputs": [],
   "source": []
  },
  {
   "cell_type": "code",
   "execution_count": null,
   "metadata": {},
   "outputs": [],
   "source": []
  }
 ],
 "metadata": {
  "kernelspec": {
   "display_name": "Python 3",
   "language": "python",
   "name": "python3"
  },
  "language_info": {
   "codemirror_mode": {
    "name": "ipython",
    "version": 3
   },
   "file_extension": ".py",
   "mimetype": "text/x-python",
   "name": "python",
   "nbconvert_exporter": "python",
   "pygments_lexer": "ipython3",
   "version": "3.7.4"
  }
 },
 "nbformat": 4,
 "nbformat_minor": 2
}
